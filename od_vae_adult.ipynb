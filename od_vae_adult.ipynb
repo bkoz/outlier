{
 "cells": [
  {
   "cell_type": "markdown",
   "metadata": {},
   "source": [
    "# VAE outlier detection for income prediction\n",
    "\n",
    "## Method\n",
    "\n",
    "The Variational Auto-Encoder ([VAE](https://arxiv.org/abs/1312.6114)) outlier detector is first trained on a batch of unlabeled, but normal (inlier) data. Unsupervised training is desireable since labeled data is often scarce. The VAE detector tries to reconstruct the input it receives. If the input data cannot be reconstructed well, the reconstruction error is high and the data can be flagged as an outlier. The reconstruction error is measured as the mean squared error (MSE) between the input and the reconstructed instance.\n",
    "\n",
    "## Dataset\n",
    "\n",
    "The instances contain a person's characteristics like age, marital status or education while the label represents whether the person makes more or less than $50k per year. The dataset consists of a mixture of numerical and categorical features. It is originally not an outlier detection dataset so we will inject artificial outliers. It is fetched using the [Alibi](https://github.com/SeldonIO/alibi) library, which can be installed with pip. We also use `seaborn` to visualize the data:"
   ]
  },
  {
   "cell_type": "code",
   "execution_count": 28,
   "metadata": {},
   "outputs": [],
   "source": [
    "!rm -rf models\n",
    "!mkdir -p models/\n",
    "!pip freeze > requirements.txt"
   ]
  },
  {
   "cell_type": "code",
   "execution_count": 2,
   "metadata": {},
   "outputs": [
    {
     "name": "stdout",
     "output_type": "stream",
     "text": [
      "Requirement already satisfied: alibi in /home/koz/venv-income-outlier-0.8.1/lib/python3.8/site-packages (0.6.4)\n",
      "Requirement already satisfied: seaborn in /home/koz/venv-income-outlier-0.8.1/lib/python3.8/site-packages (0.11.2)\n",
      "Requirement already satisfied: scikit-learn<1.1.0,>=0.20.2 in /home/koz/venv-income-outlier-0.8.1/lib/python3.8/site-packages (from alibi) (1.0.2)\n",
      "Requirement already satisfied: matplotlib<4.0.0,>=3.0.0 in /home/koz/venv-income-outlier-0.8.1/lib/python3.8/site-packages (from alibi) (3.5.1)\n",
      "Requirement already satisfied: dill<0.4.0,>=0.3.0 in /home/koz/venv-income-outlier-0.8.1/lib/python3.8/site-packages (from alibi) (0.3.4)\n",
      "Requirement already satisfied: Pillow<10.0,>=5.4.1 in /home/koz/venv-income-outlier-0.8.1/lib/python3.8/site-packages (from alibi) (8.4.0)\n",
      "Requirement already satisfied: scikit-image!=0.17.1,<0.20,>=0.14.2 in /home/koz/venv-income-outlier-0.8.1/lib/python3.8/site-packages (from alibi) (0.18.3)\n",
      "Requirement already satisfied: spacy[lookups]<4.0.0,>=2.0.0 in /home/koz/venv-income-outlier-0.8.1/lib/python3.8/site-packages (from alibi) (3.2.2)\n",
      "Requirement already satisfied: attrs<22.0.0,>=19.2.0 in /home/koz/venv-income-outlier-0.8.1/lib/python3.8/site-packages (from alibi) (21.4.0)\n",
      "Requirement already satisfied: numpy<2.0.0,>=1.16.2 in /home/koz/venv-income-outlier-0.8.1/lib/python3.8/site-packages (from alibi) (1.21.5)\n",
      "Requirement already satisfied: tqdm<5.0.0,>=4.28.1 in /home/koz/venv-income-outlier-0.8.1/lib/python3.8/site-packages (from alibi) (4.62.3)\n",
      "Requirement already satisfied: tensorflow!=2.6.0,!=2.6.1,<2.8.0,>=2.0.0 in /home/koz/venv-income-outlier-0.8.1/lib/python3.8/site-packages (from alibi) (2.7.1)\n",
      "Requirement already satisfied: scipy<2.0.0,>=1.1.0 in /home/koz/venv-income-outlier-0.8.1/lib/python3.8/site-packages (from alibi) (1.8.0)\n",
      "Requirement already satisfied: requests<3.0.0,>=2.21.0 in /home/koz/venv-income-outlier-0.8.1/lib/python3.8/site-packages (from alibi) (2.27.1)\n",
      "Requirement already satisfied: transformers<5.0.0,>=4.7.0 in /home/koz/venv-income-outlier-0.8.1/lib/python3.8/site-packages (from alibi) (4.16.2)\n",
      "Requirement already satisfied: pandas<2.0.0,>=0.23.3 in /home/koz/venv-income-outlier-0.8.1/lib/python3.8/site-packages (from alibi) (1.4.1)\n",
      "Requirement already satisfied: fonttools>=4.22.0 in /home/koz/venv-income-outlier-0.8.1/lib/python3.8/site-packages (from matplotlib<4.0.0,>=3.0.0->alibi) (4.29.1)\n",
      "Requirement already satisfied: cycler>=0.10 in /home/koz/venv-income-outlier-0.8.1/lib/python3.8/site-packages (from matplotlib<4.0.0,>=3.0.0->alibi) (0.11.0)\n",
      "Requirement already satisfied: python-dateutil>=2.7 in /home/koz/venv-income-outlier-0.8.1/lib/python3.8/site-packages (from matplotlib<4.0.0,>=3.0.0->alibi) (2.8.2)\n",
      "Requirement already satisfied: pyparsing>=2.2.1 in /home/koz/venv-income-outlier-0.8.1/lib/python3.8/site-packages (from matplotlib<4.0.0,>=3.0.0->alibi) (3.0.7)\n",
      "Requirement already satisfied: kiwisolver>=1.0.1 in /home/koz/venv-income-outlier-0.8.1/lib/python3.8/site-packages (from matplotlib<4.0.0,>=3.0.0->alibi) (1.3.2)\n",
      "Requirement already satisfied: packaging>=20.0 in /home/koz/venv-income-outlier-0.8.1/lib/python3.8/site-packages (from matplotlib<4.0.0,>=3.0.0->alibi) (21.3)\n",
      "Requirement already satisfied: pytz>=2020.1 in /home/koz/venv-income-outlier-0.8.1/lib/python3.8/site-packages (from pandas<2.0.0,>=0.23.3->alibi) (2021.3)\n",
      "Requirement already satisfied: urllib3<1.27,>=1.21.1 in /home/koz/venv-income-outlier-0.8.1/lib/python3.8/site-packages (from requests<3.0.0,>=2.21.0->alibi) (1.26.8)\n",
      "Requirement already satisfied: charset-normalizer~=2.0.0 in /home/koz/venv-income-outlier-0.8.1/lib/python3.8/site-packages (from requests<3.0.0,>=2.21.0->alibi) (2.0.12)\n",
      "Requirement already satisfied: idna<4,>=2.5 in /home/koz/venv-income-outlier-0.8.1/lib/python3.8/site-packages (from requests<3.0.0,>=2.21.0->alibi) (3.3)\n",
      "Requirement already satisfied: certifi>=2017.4.17 in /home/koz/venv-income-outlier-0.8.1/lib/python3.8/site-packages (from requests<3.0.0,>=2.21.0->alibi) (2021.10.8)\n",
      "Requirement already satisfied: networkx>=2.0 in /home/koz/venv-income-outlier-0.8.1/lib/python3.8/site-packages (from scikit-image!=0.17.1,<0.20,>=0.14.2->alibi) (2.6.3)\n",
      "Requirement already satisfied: tifffile>=2019.7.26 in /home/koz/venv-income-outlier-0.8.1/lib/python3.8/site-packages (from scikit-image!=0.17.1,<0.20,>=0.14.2->alibi) (2022.2.9)\n",
      "Requirement already satisfied: PyWavelets>=1.1.1 in /home/koz/venv-income-outlier-0.8.1/lib/python3.8/site-packages (from scikit-image!=0.17.1,<0.20,>=0.14.2->alibi) (1.2.0)\n",
      "Requirement already satisfied: imageio>=2.3.0 in /home/koz/venv-income-outlier-0.8.1/lib/python3.8/site-packages (from scikit-image!=0.17.1,<0.20,>=0.14.2->alibi) (2.16.0)\n",
      "Requirement already satisfied: joblib>=0.11 in /home/koz/venv-income-outlier-0.8.1/lib/python3.8/site-packages (from scikit-learn<1.1.0,>=0.20.2->alibi) (1.1.0)\n",
      "Requirement already satisfied: threadpoolctl>=2.0.0 in /home/koz/venv-income-outlier-0.8.1/lib/python3.8/site-packages (from scikit-learn<1.1.0,>=0.20.2->alibi) (3.1.0)\n",
      "Requirement already satisfied: spacy-loggers<2.0.0,>=1.0.0 in /home/koz/venv-income-outlier-0.8.1/lib/python3.8/site-packages (from spacy[lookups]<4.0.0,>=2.0.0->alibi) (1.0.1)\n",
      "Requirement already satisfied: setuptools in /home/koz/venv-income-outlier-0.8.1/lib/python3.8/site-packages (from spacy[lookups]<4.0.0,>=2.0.0->alibi) (44.0.0)\n",
      "Requirement already satisfied: pydantic!=1.8,!=1.8.1,<1.9.0,>=1.7.4 in /home/koz/venv-income-outlier-0.8.1/lib/python3.8/site-packages (from spacy[lookups]<4.0.0,>=2.0.0->alibi) (1.8.2)\n",
      "Requirement already satisfied: thinc<8.1.0,>=8.0.12 in /home/koz/venv-income-outlier-0.8.1/lib/python3.8/site-packages (from spacy[lookups]<4.0.0,>=2.0.0->alibi) (8.0.13)\n",
      "Requirement already satisfied: langcodes<4.0.0,>=3.2.0 in /home/koz/venv-income-outlier-0.8.1/lib/python3.8/site-packages (from spacy[lookups]<4.0.0,>=2.0.0->alibi) (3.3.0)\n",
      "Requirement already satisfied: cymem<2.1.0,>=2.0.2 in /home/koz/venv-income-outlier-0.8.1/lib/python3.8/site-packages (from spacy[lookups]<4.0.0,>=2.0.0->alibi) (2.0.6)\n",
      "Requirement already satisfied: typer<0.5.0,>=0.3.0 in /home/koz/venv-income-outlier-0.8.1/lib/python3.8/site-packages (from spacy[lookups]<4.0.0,>=2.0.0->alibi) (0.4.0)\n",
      "Requirement already satisfied: pathy>=0.3.5 in /home/koz/venv-income-outlier-0.8.1/lib/python3.8/site-packages (from spacy[lookups]<4.0.0,>=2.0.0->alibi) (0.6.1)\n",
      "Requirement already satisfied: catalogue<2.1.0,>=2.0.6 in /home/koz/venv-income-outlier-0.8.1/lib/python3.8/site-packages (from spacy[lookups]<4.0.0,>=2.0.0->alibi) (2.0.6)\n",
      "Requirement already satisfied: spacy-legacy<3.1.0,>=3.0.8 in /home/koz/venv-income-outlier-0.8.1/lib/python3.8/site-packages (from spacy[lookups]<4.0.0,>=2.0.0->alibi) (3.0.8)\n",
      "Requirement already satisfied: blis<0.8.0,>=0.4.0 in /home/koz/venv-income-outlier-0.8.1/lib/python3.8/site-packages (from spacy[lookups]<4.0.0,>=2.0.0->alibi) (0.7.6)\n",
      "Requirement already satisfied: srsly<3.0.0,>=2.4.1 in /home/koz/venv-income-outlier-0.8.1/lib/python3.8/site-packages (from spacy[lookups]<4.0.0,>=2.0.0->alibi) (2.4.2)\n",
      "Requirement already satisfied: wasabi<1.1.0,>=0.8.1 in /home/koz/venv-income-outlier-0.8.1/lib/python3.8/site-packages (from spacy[lookups]<4.0.0,>=2.0.0->alibi) (0.9.0)\n",
      "Requirement already satisfied: jinja2 in /home/koz/venv-income-outlier-0.8.1/lib/python3.8/site-packages (from spacy[lookups]<4.0.0,>=2.0.0->alibi) (3.0.3)\n",
      "Requirement already satisfied: preshed<3.1.0,>=3.0.2 in /home/koz/venv-income-outlier-0.8.1/lib/python3.8/site-packages (from spacy[lookups]<4.0.0,>=2.0.0->alibi) (3.0.6)\n",
      "Requirement already satisfied: murmurhash<1.1.0,>=0.28.0 in /home/koz/venv-income-outlier-0.8.1/lib/python3.8/site-packages (from spacy[lookups]<4.0.0,>=2.0.0->alibi) (1.0.6)\n",
      "Requirement already satisfied: spacy-lookups-data<1.1.0,>=1.0.3 in /home/koz/venv-income-outlier-0.8.1/lib/python3.8/site-packages (from spacy[lookups]<4.0.0,>=2.0.0->alibi) (1.0.3)\n",
      "Requirement already satisfied: six>=1.12.0 in /home/koz/venv-income-outlier-0.8.1/lib/python3.8/site-packages (from tensorflow!=2.6.0,!=2.6.1,<2.8.0,>=2.0.0->alibi) (1.16.0)\n",
      "Requirement already satisfied: google-pasta>=0.1.1 in /home/koz/venv-income-outlier-0.8.1/lib/python3.8/site-packages (from tensorflow!=2.6.0,!=2.6.1,<2.8.0,>=2.0.0->alibi) (0.2.0)\n",
      "Requirement already satisfied: protobuf>=3.9.2 in /home/koz/venv-income-outlier-0.8.1/lib/python3.8/site-packages (from tensorflow!=2.6.0,!=2.6.1,<2.8.0,>=2.0.0->alibi) (3.19.4)\n",
      "Requirement already satisfied: keras-preprocessing>=1.1.1 in /home/koz/venv-income-outlier-0.8.1/lib/python3.8/site-packages (from tensorflow!=2.6.0,!=2.6.1,<2.8.0,>=2.0.0->alibi) (1.1.2)\n",
      "Requirement already satisfied: tensorflow-io-gcs-filesystem>=0.21.0 in /home/koz/venv-income-outlier-0.8.1/lib/python3.8/site-packages (from tensorflow!=2.6.0,!=2.6.1,<2.8.0,>=2.0.0->alibi) (0.24.0)\n",
      "Requirement already satisfied: astunparse>=1.6.0 in /home/koz/venv-income-outlier-0.8.1/lib/python3.8/site-packages (from tensorflow!=2.6.0,!=2.6.1,<2.8.0,>=2.0.0->alibi) (1.6.3)\n",
      "Requirement already satisfied: flatbuffers<3.0,>=1.12 in /home/koz/venv-income-outlier-0.8.1/lib/python3.8/site-packages (from tensorflow!=2.6.0,!=2.6.1,<2.8.0,>=2.0.0->alibi) (2.0)\n",
      "Requirement already satisfied: tensorflow-estimator<2.8,~=2.7.0rc0 in /home/koz/venv-income-outlier-0.8.1/lib/python3.8/site-packages (from tensorflow!=2.6.0,!=2.6.1,<2.8.0,>=2.0.0->alibi) (2.7.0)\n",
      "Requirement already satisfied: libclang>=9.0.1 in /home/koz/venv-income-outlier-0.8.1/lib/python3.8/site-packages (from tensorflow!=2.6.0,!=2.6.1,<2.8.0,>=2.0.0->alibi) (13.0.0)\n",
      "Requirement already satisfied: absl-py>=0.4.0 in /home/koz/venv-income-outlier-0.8.1/lib/python3.8/site-packages (from tensorflow!=2.6.0,!=2.6.1,<2.8.0,>=2.0.0->alibi) (1.0.0)\n",
      "Requirement already satisfied: grpcio<2.0,>=1.24.3 in /home/koz/venv-income-outlier-0.8.1/lib/python3.8/site-packages (from tensorflow!=2.6.0,!=2.6.1,<2.8.0,>=2.0.0->alibi) (1.43.0)\n",
      "Requirement already satisfied: h5py>=2.9.0 in /home/koz/venv-income-outlier-0.8.1/lib/python3.8/site-packages (from tensorflow!=2.6.0,!=2.6.1,<2.8.0,>=2.0.0->alibi) (3.6.0)\n",
      "Requirement already satisfied: tensorboard~=2.6 in /home/koz/venv-income-outlier-0.8.1/lib/python3.8/site-packages (from tensorflow!=2.6.0,!=2.6.1,<2.8.0,>=2.0.0->alibi) (2.8.0)\n",
      "Requirement already satisfied: keras<2.8,>=2.7.0rc0 in /home/koz/venv-income-outlier-0.8.1/lib/python3.8/site-packages (from tensorflow!=2.6.0,!=2.6.1,<2.8.0,>=2.0.0->alibi) (2.7.0)\n",
      "Requirement already satisfied: gast<0.5.0,>=0.2.1 in /home/koz/venv-income-outlier-0.8.1/lib/python3.8/site-packages (from tensorflow!=2.6.0,!=2.6.1,<2.8.0,>=2.0.0->alibi) (0.4.0)\n",
      "Requirement already satisfied: termcolor>=1.1.0 in /home/koz/venv-income-outlier-0.8.1/lib/python3.8/site-packages (from tensorflow!=2.6.0,!=2.6.1,<2.8.0,>=2.0.0->alibi) (1.1.0)\n",
      "Requirement already satisfied: wrapt>=1.11.0 in /home/koz/venv-income-outlier-0.8.1/lib/python3.8/site-packages (from tensorflow!=2.6.0,!=2.6.1,<2.8.0,>=2.0.0->alibi) (1.13.3)\n",
      "Requirement already satisfied: typing-extensions>=3.6.6 in /home/koz/venv-income-outlier-0.8.1/lib/python3.8/site-packages (from tensorflow!=2.6.0,!=2.6.1,<2.8.0,>=2.0.0->alibi) (4.1.1)\n",
      "Requirement already satisfied: opt-einsum>=2.3.2 in /home/koz/venv-income-outlier-0.8.1/lib/python3.8/site-packages (from tensorflow!=2.6.0,!=2.6.1,<2.8.0,>=2.0.0->alibi) (3.3.0)\n",
      "Requirement already satisfied: wheel<1.0,>=0.32.0 in /home/koz/venv-income-outlier-0.8.1/lib/python3.8/site-packages (from tensorflow!=2.6.0,!=2.6.1,<2.8.0,>=2.0.0->alibi) (0.37.1)\n"
     ]
    },
    {
     "name": "stdout",
     "output_type": "stream",
     "text": [
      "Requirement already satisfied: regex!=2019.12.17 in /home/koz/venv-income-outlier-0.8.1/lib/python3.8/site-packages (from transformers<5.0.0,>=4.7.0->alibi) (2022.1.18)\n",
      "Requirement already satisfied: pyyaml>=5.1 in /home/koz/venv-income-outlier-0.8.1/lib/python3.8/site-packages (from transformers<5.0.0,>=4.7.0->alibi) (6.0)\n",
      "Requirement already satisfied: sacremoses in /home/koz/venv-income-outlier-0.8.1/lib/python3.8/site-packages (from transformers<5.0.0,>=4.7.0->alibi) (0.0.47)\n",
      "Requirement already satisfied: huggingface-hub<1.0,>=0.1.0 in /home/koz/venv-income-outlier-0.8.1/lib/python3.8/site-packages (from transformers<5.0.0,>=4.7.0->alibi) (0.4.0)\n",
      "Requirement already satisfied: tokenizers!=0.11.3,>=0.10.1 in /home/koz/venv-income-outlier-0.8.1/lib/python3.8/site-packages (from transformers<5.0.0,>=4.7.0->alibi) (0.11.4)\n",
      "Requirement already satisfied: filelock in /home/koz/venv-income-outlier-0.8.1/lib/python3.8/site-packages (from transformers<5.0.0,>=4.7.0->alibi) (3.5.0)\n",
      "Requirement already satisfied: smart-open<6.0.0,>=5.0.0 in /home/koz/venv-income-outlier-0.8.1/lib/python3.8/site-packages (from pathy>=0.3.5->spacy[lookups]<4.0.0,>=2.0.0->alibi) (5.2.1)\n",
      "Requirement already satisfied: werkzeug>=0.11.15 in /home/koz/venv-income-outlier-0.8.1/lib/python3.8/site-packages (from tensorboard~=2.6->tensorflow!=2.6.0,!=2.6.1,<2.8.0,>=2.0.0->alibi) (2.0.3)\n",
      "Requirement already satisfied: tensorboard-plugin-wit>=1.6.0 in /home/koz/venv-income-outlier-0.8.1/lib/python3.8/site-packages (from tensorboard~=2.6->tensorflow!=2.6.0,!=2.6.1,<2.8.0,>=2.0.0->alibi) (1.8.1)\n",
      "Requirement already satisfied: markdown>=2.6.8 in /home/koz/venv-income-outlier-0.8.1/lib/python3.8/site-packages (from tensorboard~=2.6->tensorflow!=2.6.0,!=2.6.1,<2.8.0,>=2.0.0->alibi) (3.3.6)\n",
      "Requirement already satisfied: google-auth<3,>=1.6.3 in /home/koz/venv-income-outlier-0.8.1/lib/python3.8/site-packages (from tensorboard~=2.6->tensorflow!=2.6.0,!=2.6.1,<2.8.0,>=2.0.0->alibi) (2.6.0)\n",
      "Requirement already satisfied: tensorboard-data-server<0.7.0,>=0.6.0 in /home/koz/venv-income-outlier-0.8.1/lib/python3.8/site-packages (from tensorboard~=2.6->tensorflow!=2.6.0,!=2.6.1,<2.8.0,>=2.0.0->alibi) (0.6.1)\n",
      "Requirement already satisfied: google-auth-oauthlib<0.5,>=0.4.1 in /home/koz/venv-income-outlier-0.8.1/lib/python3.8/site-packages (from tensorboard~=2.6->tensorflow!=2.6.0,!=2.6.1,<2.8.0,>=2.0.0->alibi) (0.4.6)\n",
      "Requirement already satisfied: click<9.0.0,>=7.1.1 in /home/koz/venv-income-outlier-0.8.1/lib/python3.8/site-packages (from typer<0.5.0,>=0.3.0->spacy[lookups]<4.0.0,>=2.0.0->alibi) (8.0.3)\n",
      "Requirement already satisfied: MarkupSafe>=2.0 in /home/koz/venv-income-outlier-0.8.1/lib/python3.8/site-packages (from jinja2->spacy[lookups]<4.0.0,>=2.0.0->alibi) (2.0.1)\n",
      "Requirement already satisfied: cachetools<6.0,>=2.0.0 in /home/koz/venv-income-outlier-0.8.1/lib/python3.8/site-packages (from google-auth<3,>=1.6.3->tensorboard~=2.6->tensorflow!=2.6.0,!=2.6.1,<2.8.0,>=2.0.0->alibi) (5.0.0)\n",
      "Requirement already satisfied: rsa<5,>=3.1.4 in /home/koz/venv-income-outlier-0.8.1/lib/python3.8/site-packages (from google-auth<3,>=1.6.3->tensorboard~=2.6->tensorflow!=2.6.0,!=2.6.1,<2.8.0,>=2.0.0->alibi) (4.8)\n",
      "Requirement already satisfied: pyasn1-modules>=0.2.1 in /home/koz/venv-income-outlier-0.8.1/lib/python3.8/site-packages (from google-auth<3,>=1.6.3->tensorboard~=2.6->tensorflow!=2.6.0,!=2.6.1,<2.8.0,>=2.0.0->alibi) (0.2.8)\n",
      "Requirement already satisfied: requests-oauthlib>=0.7.0 in /home/koz/venv-income-outlier-0.8.1/lib/python3.8/site-packages (from google-auth-oauthlib<0.5,>=0.4.1->tensorboard~=2.6->tensorflow!=2.6.0,!=2.6.1,<2.8.0,>=2.0.0->alibi) (1.3.1)\n",
      "Requirement already satisfied: importlib-metadata>=4.4 in /home/koz/venv-income-outlier-0.8.1/lib/python3.8/site-packages (from markdown>=2.6.8->tensorboard~=2.6->tensorflow!=2.6.0,!=2.6.1,<2.8.0,>=2.0.0->alibi) (4.11.1)\n",
      "Requirement already satisfied: zipp>=0.5 in /home/koz/venv-income-outlier-0.8.1/lib/python3.8/site-packages (from importlib-metadata>=4.4->markdown>=2.6.8->tensorboard~=2.6->tensorflow!=2.6.0,!=2.6.1,<2.8.0,>=2.0.0->alibi) (3.7.0)\n",
      "Requirement already satisfied: pyasn1<0.5.0,>=0.4.6 in /home/koz/venv-income-outlier-0.8.1/lib/python3.8/site-packages (from pyasn1-modules>=0.2.1->google-auth<3,>=1.6.3->tensorboard~=2.6->tensorflow!=2.6.0,!=2.6.1,<2.8.0,>=2.0.0->alibi) (0.4.8)\n",
      "Requirement already satisfied: oauthlib>=3.0.0 in /home/koz/venv-income-outlier-0.8.1/lib/python3.8/site-packages (from requests-oauthlib>=0.7.0->google-auth-oauthlib<0.5,>=0.4.1->tensorboard~=2.6->tensorflow!=2.6.0,!=2.6.1,<2.8.0,>=2.0.0->alibi) (3.2.0)\n"
     ]
    }
   ],
   "source": [
    "!pip install alibi seaborn"
   ]
  },
  {
   "cell_type": "code",
   "execution_count": 3,
   "metadata": {},
   "outputs": [
    {
     "name": "stderr",
     "output_type": "stream",
     "text": [
      "2022-02-15 15:40:18.882033: W tensorflow/stream_executor/platform/default/dso_loader.cc:64] Could not load dynamic library 'libcudart.so.11.0'; dlerror: libcudart.so.11.0: cannot open shared object file: No such file or directory\n",
      "2022-02-15 15:40:18.882052: I tensorflow/stream_executor/cuda/cudart_stub.cc:29] Ignore above cudart dlerror if you do not have a GPU set up on your machine.\n",
      "2022-02-15 15:40:20.326590: W tensorflow/stream_executor/platform/default/dso_loader.cc:64] Could not load dynamic library 'libcuda.so.1'; dlerror: libcuda.so.1: cannot open shared object file: No such file or directory\n",
      "2022-02-15 15:40:20.326607: W tensorflow/stream_executor/cuda/cuda_driver.cc:269] failed call to cuInit: UNKNOWN ERROR (303)\n",
      "2022-02-15 15:40:20.326618: I tensorflow/stream_executor/cuda/cuda_diagnostics.cc:156] kernel driver does not appear to be running on this host (tango): /proc/driver/nvidia/version does not exist\n",
      "2022-02-15 15:40:20.326733: I tensorflow/core/platform/cpu_feature_guard.cc:151] This TensorFlow binary is optimized with oneAPI Deep Neural Network Library (oneDNN) to use the following CPU instructions in performance-critical operations:  AVX2 AVX512F FMA\n",
      "To enable them in other operations, rebuild TensorFlow with the appropriate compiler flags.\n"
     ]
    }
   ],
   "source": [
    "import os\n",
    "import alibi\n",
    "import matplotlib\n",
    "%matplotlib inline\n",
    "import matplotlib.pyplot as plt\n",
    "import numpy as np\n",
    "import pandas as pd\n",
    "import seaborn as sns\n",
    "from sklearn.metrics import accuracy_score, confusion_matrix, f1_score, precision_score, recall_score\n",
    "from sklearn.preprocessing import OneHotEncoder\n",
    "import tensorflow as tf\n",
    "tf.keras.backend.clear_session()\n",
    "from tensorflow.keras.layers import Dense, InputLayer\n",
    "\n",
    "from alibi_detect.od import OutlierVAE\n",
    "from alibi_detect.utils.perturbation import inject_outlier_tabular\n",
    "from alibi_detect.utils.fetching import fetch_detector\n",
    "from alibi_detect.utils.saving import save_detector, load_detector\n",
    "from alibi_detect.utils.visualize import plot_instance_score"
   ]
  },
  {
   "cell_type": "code",
   "execution_count": 4,
   "metadata": {},
   "outputs": [],
   "source": [
    "def set_seed(s=0):\n",
    "    np.random.seed(s)\n",
    "    tf.random.set_seed(s)"
   ]
  },
  {
   "cell_type": "markdown",
   "metadata": {},
   "source": [
    "## Load adult dataset\n",
    "\n",
    "The ```fetch_adult``` function returns a ```Bunch``` object containing the features, the targets, the feature names and a mapping of the categories in each categorical variable."
   ]
  },
  {
   "cell_type": "code",
   "execution_count": 5,
   "metadata": {},
   "outputs": [],
   "source": [
    "adult = alibi.datasets.fetch_adult()\n",
    "X, y = adult.data, adult.target\n",
    "feature_names = adult.feature_names\n",
    "category_map_tmp = adult.category_map"
   ]
  },
  {
   "cell_type": "markdown",
   "metadata": {},
   "source": [
    "Shuffle data:"
   ]
  },
  {
   "cell_type": "code",
   "execution_count": 6,
   "metadata": {},
   "outputs": [],
   "source": [
    "set_seed(0)\n",
    "Xy_perm = np.random.permutation(np.c_[X, y])\n",
    "X, y = Xy_perm[:,:-1], Xy_perm[:,-1]"
   ]
  },
  {
   "cell_type": "markdown",
   "metadata": {},
   "source": [
    "Reorganize data so categorical features come first, remove some features and adjust ```feature_names``` and ```category_map``` accordingly:"
   ]
  },
  {
   "cell_type": "code",
   "execution_count": 7,
   "metadata": {},
   "outputs": [
    {
     "name": "stdout",
     "output_type": "stream",
     "text": [
      "['Education', 'Marital Status', 'Relationship', 'Age', 'Capital Gain', 'Capital Loss', 'Hours per week']\n"
     ]
    }
   ],
   "source": [
    "keep_cols = [2, 3, 5, 0, 8, 9, 10]\n",
    "feature_names = feature_names[2:4] + feature_names[5:6] + feature_names[0:1] + feature_names[8:11]\n",
    "print(feature_names)"
   ]
  },
  {
   "cell_type": "code",
   "execution_count": 8,
   "metadata": {},
   "outputs": [
    {
     "name": "stdout",
     "output_type": "stream",
     "text": [
      "(32561, 7)\n"
     ]
    }
   ],
   "source": [
    "X = X[:, keep_cols]\n",
    "print(X.shape)"
   ]
  },
  {
   "cell_type": "code",
   "execution_count": 9,
   "metadata": {},
   "outputs": [],
   "source": [
    "category_map = {}\n",
    "i = 0\n",
    "for k, v in category_map_tmp.items():\n",
    "    if k in keep_cols:\n",
    "        category_map[i] = v\n",
    "        i += 1"
   ]
  },
  {
   "cell_type": "markdown",
   "metadata": {},
   "source": [
    "## Preprocess data\n",
    "\n",
    "Normalize numerical features or scale numerical between -1 and 1:"
   ]
  },
  {
   "cell_type": "code",
   "execution_count": 10,
   "metadata": {},
   "outputs": [],
   "source": [
    "minmax = False"
   ]
  },
  {
   "cell_type": "code",
   "execution_count": 11,
   "metadata": {},
   "outputs": [],
   "source": [
    "X_num = X[:, -4:].astype(np.float32, copy=False)\n",
    "if minmax:\n",
    "    xmin, xmax = X_num.min(axis=0), X_num.max(axis=0)\n",
    "    rng = (-1., 1.)\n",
    "    X_num_scaled = (X_num - xmin) / (xmax - xmin) * (rng[1] - rng[0]) + rng[0]\n",
    "else:  # normalize\n",
    "    mu, sigma = X_num.mean(axis=0), X_num.std(axis=0)\n",
    "    X_num_scaled = (X_num - mu) / sigma"
   ]
  },
  {
   "cell_type": "markdown",
   "metadata": {},
   "source": [
    "Fit OHE to categorical variables:"
   ]
  },
  {
   "cell_type": "code",
   "execution_count": 12,
   "metadata": {},
   "outputs": [
    {
     "data": {
      "text/plain": [
       "OneHotEncoder()"
      ]
     },
     "execution_count": 12,
     "metadata": {},
     "output_type": "execute_result"
    }
   ],
   "source": [
    "X_cat = X[:, :-4].copy()\n",
    "ohe = OneHotEncoder(categories='auto')\n",
    "ohe.fit(X_cat)"
   ]
  },
  {
   "cell_type": "markdown",
   "metadata": {},
   "source": [
    "Combine numerical and categorical data:"
   ]
  },
  {
   "cell_type": "code",
   "execution_count": 13,
   "metadata": {},
   "outputs": [],
   "source": [
    "X = np.c_[X_cat, X_num_scaled].astype(np.float32, copy=False)"
   ]
  },
  {
   "cell_type": "markdown",
   "metadata": {},
   "source": [
    "Define train, validation (to find outlier threshold) and test set:"
   ]
  },
  {
   "cell_type": "code",
   "execution_count": 14,
   "metadata": {},
   "outputs": [
    {
     "name": "stdout",
     "output_type": "stream",
     "text": [
      "(25000, 7) (25000,) (5000, 7) (5000,) (2561, 7) (2561,)\n"
     ]
    }
   ],
   "source": [
    "n_train = 25000\n",
    "n_valid = 5000\n",
    "X_train, y_train = X[:n_train,:], y[:n_train]\n",
    "X_valid, y_valid = X[n_train:n_train+n_valid,:], y[n_train:n_train+n_valid]\n",
    "X_test, y_test = X[n_train+n_valid:,:], y[n_train+n_valid:]\n",
    "print(X_train.shape, y_train.shape,\n",
    "      X_valid.shape, y_valid.shape,\n",
    "      X_test.shape, y_test.shape)"
   ]
  },
  {
   "cell_type": "markdown",
   "metadata": {},
   "source": [
    "## Create outliers\n",
    "\n",
    "Inject outliers in the numerical features. First we need to know the features for each kind:"
   ]
  },
  {
   "cell_type": "code",
   "execution_count": 15,
   "metadata": {},
   "outputs": [
    {
     "name": "stdout",
     "output_type": "stream",
     "text": [
      "[0, 1, 2] [3, 4, 5, 6]\n"
     ]
    }
   ],
   "source": [
    "cat_cols = list(category_map.keys())\n",
    "num_cols = [col for col in range(X.shape[1]) if col not in cat_cols]\n",
    "print(cat_cols, num_cols)"
   ]
  },
  {
   "cell_type": "markdown",
   "metadata": {},
   "source": [
    "### Numerical\n",
    "\n",
    "Now we can add outliers to the validation (or threshold) and test sets. For the numerical data, we need to specify the numerical columns (```cols```), the percentage of outliers (```perc_outlier```), the strength (```n_std```) and the minimum size of the perturbation (```min_std```). The outliers are distributed evenly across the numerical features:"
   ]
  },
  {
   "cell_type": "code",
   "execution_count": 16,
   "metadata": {},
   "outputs": [
    {
     "name": "stdout",
     "output_type": "stream",
     "text": [
      "9.74% outliers\n"
     ]
    }
   ],
   "source": [
    "perc_outlier = 10\n",
    "data = inject_outlier_tabular(X_valid, num_cols, perc_outlier, n_std=8., min_std=6.)\n",
    "X_threshold, y_threshold = data.data, data.target\n",
    "X_threshold_, y_threshold_ = X_threshold.copy(), y_threshold.copy()  # store for comparison later\n",
    "outlier_perc = 100 * y_threshold.sum() / len(y_threshold)\n",
    "print('{:.2f}% outliers'.format(outlier_perc))"
   ]
  },
  {
   "cell_type": "markdown",
   "metadata": {},
   "source": [
    "Let's inspect an instance that was changed:"
   ]
  },
  {
   "cell_type": "code",
   "execution_count": 17,
   "metadata": {},
   "outputs": [
    {
     "name": "stdout",
     "output_type": "stream",
     "text": [
      "Capital Loss changed by -6.27.\n"
     ]
    }
   ],
   "source": [
    "outlier_idx = np.where(y_threshold != 0)[0]\n",
    "vdiff = X_threshold[outlier_idx[0]] - X_valid[outlier_idx[0]]\n",
    "fdiff = np.where(vdiff != 0)[0]\n",
    "print('{} changed by {:.2f}.'.format(feature_names[fdiff[0]], vdiff[fdiff[0]]))"
   ]
  },
  {
   "cell_type": "markdown",
   "metadata": {},
   "source": [
    "Same thing for the test set:"
   ]
  },
  {
   "cell_type": "code",
   "execution_count": 18,
   "metadata": {},
   "outputs": [
    {
     "name": "stdout",
     "output_type": "stream",
     "text": [
      "9.76% outliers\n"
     ]
    }
   ],
   "source": [
    "data = inject_outlier_tabular(X_test, num_cols, perc_outlier, n_std=8., min_std=6.)\n",
    "X_outlier, y_outlier = data.data, data.target\n",
    "print('{:.2f}% outliers'.format(100 * y_outlier.sum() / len(y_outlier)))"
   ]
  },
  {
   "cell_type": "markdown",
   "metadata": {},
   "source": [
    "## Apply one-hot encoding\n",
    "\n",
    "OHE to train, threshold and outlier sets:"
   ]
  },
  {
   "cell_type": "code",
   "execution_count": 19,
   "metadata": {},
   "outputs": [
    {
     "name": "stdout",
     "output_type": "stream",
     "text": [
      "(25000, 17) (5000, 17) (2561, 17)\n"
     ]
    }
   ],
   "source": [
    "X_train_ohe = ohe.transform(X_train[:, :-4].copy())\n",
    "X_threshold_ohe = ohe.transform(X_threshold[:, :-4].copy())\n",
    "X_outlier_ohe = ohe.transform(X_outlier[:, :-4].copy())\n",
    "print(X_train_ohe.shape, X_threshold_ohe.shape, X_outlier_ohe.shape)"
   ]
  },
  {
   "cell_type": "code",
   "execution_count": 20,
   "metadata": {},
   "outputs": [
    {
     "name": "stdout",
     "output_type": "stream",
     "text": [
      "(25000, 21) (5000, 21) (2561, 21)\n"
     ]
    }
   ],
   "source": [
    "X_train = np.c_[X_train_ohe.toarray(), X_train[:, -4:]].astype(np.float32, copy=False)\n",
    "X_threshold = np.c_[X_threshold_ohe.toarray(), X_threshold[:, -4:]].astype(np.float32, copy=False)\n",
    "X_outlier = np.c_[X_outlier_ohe.toarray(), X_outlier[:, -4:]].astype(np.float32, copy=False)\n",
    "print(X_train.shape, X_threshold.shape, X_outlier.shape)"
   ]
  },
  {
   "cell_type": "markdown",
   "metadata": {},
   "source": [
    "## Load or define outlier detector\n",
    "\n",
    "The pretrained outlier and adversarial detectors used in the example notebooks can be found [here](https://console.cloud.google.com/storage/browser/seldon-models/alibi-detect). You can use the built-in ```fetch_detector``` function which saves the pre-trained models in a local directory ```filepath``` and loads the detector. Alternatively, you can train a detector from scratch:"
   ]
  },
  {
   "cell_type": "code",
   "execution_count": 21,
   "metadata": {},
   "outputs": [],
   "source": [
    "load_outlier_detector = True"
   ]
  },
  {
   "cell_type": "code",
   "execution_count": 22,
   "metadata": {},
   "outputs": [
    {
     "name": "stdout",
     "output_type": "stream",
     "text": [
      "Downloading data from https://storage.googleapis.com/seldon-models/alibi-detect/od/OutlierVAE/adult/model/encoder_net.h5\n",
      "24576/19364 [======================================] - 0s 2us/step\n",
      "32768/19364 [==================================================] - 0s 2us/step\n",
      "Downloading data from https://storage.googleapis.com/seldon-models/alibi-detect/od/OutlierVAE/adult/model/decoder_net.h5\n",
      "24576/22156 [=================================] - 0s 2us/step\n",
      "32768/22156 [============================================] - 0s 1us/step\n",
      "Downloading data from https://storage.googleapis.com/seldon-models/alibi-detect/od/OutlierVAE/adult/model/checkpoint\n",
      "16384/73 [=============================================================================================================================================================================================================================================================================================================================================================================================================================================================================================================================================================================================================================================================================================================================================================================================================================================================================================================================================================================================================================================================================================================================================================================================================================================================================================================================================================================================================================================================================================================================================================================================================================================================================================================================================================================================================================================================================================================================================================================================================================================================================================================================================================================================================================================================================================================================================================================================================================================================================================================================================================================================================================================================================================================================================================================================================================================================================================================================================================================================================================================================================================================================================================================================================================================================================================================================================================================================================================================================================================================================================================================================================================================================================================================================================================================================================================================================================================================================================================================================================================================================================================================================================================================================================================================================================================================================================================================================================================================================================================================================================================================================================================================================================================================================================================================================================================================================================================================================================================================================================================================================================================================================================================================================================================================================================================================================================================================================================================================================================================================================================================================================================================================================================================================================================================================================================================================================================================================================================================================================================================================================================================================================================================================================================================================================================================================================================================================================================================================================================================================================================================================================================================================================================================================================================================================================================================================================================================================================================================================================================] - 0s 0us/step\n",
      "Downloading data from https://storage.googleapis.com/seldon-models/alibi-detect/od/OutlierVAE/adult/model/vae.ckpt.index\n",
      "16384/1258 [======================================================================================================================================================================================================================================================================================================================================================================================================] - 0s 0us/step\n",
      "Downloading data from https://storage.googleapis.com/seldon-models/alibi-detect/od/OutlierVAE/adult/model/vae.ckpt.data-00000-of-00001\n",
      "16384/9697 [==================================================] - 0s 0us/step\n",
      "24576/9697 [============================================================================] - 0s 0us/step\n"
     ]
    },
    {
     "name": "stdout",
     "output_type": "stream",
     "text": [
      "WARNING:tensorflow:No training configuration found in the save file, so the model was *not* compiled. Compile it manually.\n",
      "WARNING:tensorflow:No training configuration found in the save file, so the model was *not* compiled. Compile it manually.\n"
     ]
    },
    {
     "name": "stderr",
     "output_type": "stream",
     "text": [
      "/home/koz/venv-income-outlier-0.8.1/lib/python3.8/site-packages/alibi_detect/utils/saving.py:976: UserWarning: Trying to load detector from version 0.7.3dev when using version 0.8.1. This may lead to breaking code or invalid results.\n",
      "  warnings.warn(f'Trying to load detector from version {meta_dict[\"version\"]} when using version '\n",
      "No threshold level set. Need to infer threshold using `infer_threshold`.\n"
     ]
    }
   ],
   "source": [
    "filepath = './models/'  # change to directory where model is downloaded\n",
    "if load_outlier_detector:  # load pretrained outlier detector\n",
    "    detector_type = 'outlier'\n",
    "    dataset = 'adult'\n",
    "    detector_name = 'OutlierVAE'\n",
    "    od = fetch_detector(filepath, detector_type, dataset, detector_name)\n",
    "else:  # define model, initialize, train and save outlier detector\n",
    "    n_features = X_train.shape[1]\n",
    "    latent_dim = 2\n",
    "\n",
    "    encoder_net = tf.keras.Sequential(\n",
    "      [\n",
    "          InputLayer(input_shape=(n_features,)),\n",
    "          Dense(25, activation=tf.nn.relu),\n",
    "          Dense(10, activation=tf.nn.relu),\n",
    "          Dense(5, activation=tf.nn.relu)\n",
    "      ])\n",
    "\n",
    "    decoder_net = tf.keras.Sequential(\n",
    "      [\n",
    "          InputLayer(input_shape=(latent_dim,)),\n",
    "          Dense(5, activation=tf.nn.relu),\n",
    "          Dense(10, activation=tf.nn.relu),\n",
    "          Dense(25, activation=tf.nn.relu),\n",
    "          Dense(n_features, activation=None)\n",
    "      ])\n",
    "\n",
    "    # initialize outlier detector\n",
    "    od = OutlierVAE(threshold=None,  # threshold for outlier score\n",
    "                    score_type='mse',  # use MSE of reconstruction error for outlier detection\n",
    "                    encoder_net=encoder_net,  # can also pass VAE model instead\n",
    "                    decoder_net=decoder_net,  # of separate encoder and decoder\n",
    "                    latent_dim=latent_dim,\n",
    "                    samples=5)\n",
    "\n",
    "    # train\n",
    "    od.fit(X_train,\n",
    "           loss_fn=tf.keras.losses.mse,\n",
    "           epochs=5,\n",
    "           verbose=True)\n",
    "\n",
    "    # save the trained outlier detector\n",
    "    save_detector(od, filepath)"
   ]
  },
  {
   "cell_type": "markdown",
   "metadata": {},
   "source": [
    "The warning tells us we still need to set the outlier threshold. This can be done with the ```infer_threshold``` method. We need to pass a batch of instances and specify what percentage of those we consider to be normal via ```threshold_perc```."
   ]
  },
  {
   "cell_type": "code",
   "execution_count": 23,
   "metadata": {},
   "outputs": [
    {
     "name": "stdout",
     "output_type": "stream",
     "text": [
      "New threshold: 1.5243267046213251\n"
     ]
    }
   ],
   "source": [
    "od.infer_threshold(X_threshold, threshold_perc=100-outlier_perc, outlier_perc=100)\n",
    "print('New threshold: {}'.format(od.threshold))"
   ]
  },
  {
   "cell_type": "markdown",
   "metadata": {},
   "source": [
    "Let’s save the outlier detector with updated threshold:"
   ]
  },
  {
   "cell_type": "code",
   "execution_count": 24,
   "metadata": {},
   "outputs": [
    {
     "name": "stdout",
     "output_type": "stream",
     "text": [
      "WARNING:tensorflow:Compiled the loaded model, but the compiled metrics have yet to be built. `model.compile_metrics` will be empty until you train or evaluate the model.\n",
      "WARNING:tensorflow:Compiled the loaded model, but the compiled metrics have yet to be built. `model.compile_metrics` will be empty until you train or evaluate the model.\n"
     ]
    }
   ],
   "source": [
    "save_detector(od, filepath)"
   ]
  },
  {
   "cell_type": "markdown",
   "metadata": {},
   "source": [
    "## Detect outliers"
   ]
  },
  {
   "cell_type": "code",
   "execution_count": 25,
   "metadata": {},
   "outputs": [],
   "source": [
    "od_preds = od.predict(X_outlier,\n",
    "                      outlier_type='instance',\n",
    "                      return_feature_score=True,\n",
    "                      return_instance_score=True)"
   ]
  },
  {
   "cell_type": "markdown",
   "metadata": {},
   "source": [
    "## Display results\n",
    "\n",
    "F1 score and confusion matrix:"
   ]
  },
  {
   "cell_type": "code",
   "execution_count": 26,
   "metadata": {},
   "outputs": [
    {
     "name": "stdout",
     "output_type": "stream",
     "text": [
      "F1 score: 0.90 -- Accuracy: 0.98 -- Precision: 0.91 -- Recall: 0.90\n"
     ]
    },
    {
     "data": {
      "image/png": "[encoded data removed]",
      "text/plain": [
       "<Figure size 432x288 with 2 Axes>"
      ]
     },
     "metadata": {
      "needs_background": "light"
     },
     "output_type": "display_data"
    }
   ],
   "source": [
    "labels = data.target_names\n",
    "y_pred = od_preds['data']['is_outlier']\n",
    "f1 = f1_score(y_outlier, y_pred)\n",
    "acc = accuracy_score(y_outlier, y_pred)\n",
    "prec = precision_score(y_outlier, y_pred)\n",
    "rec = recall_score(y_outlier, y_pred)\n",
    "print('F1 score: {:.2f} -- Accuracy: {:.2f} -- Precision: {:.2f} -- Recall: {:.2f}'.format(f1, acc, prec, rec))\n",
    "cm = confusion_matrix(y_outlier, y_pred)\n",
    "df_cm = pd.DataFrame(cm, index=labels, columns=labels)\n",
    "sns.heatmap(df_cm, annot=True, cbar=True, linewidths=.5)\n",
    "plt.show()"
   ]
  },
  {
   "cell_type": "markdown",
   "metadata": {},
   "source": [
    "Plot instance level outlier scores vs. the outlier threshold:"
   ]
  },
  {
   "cell_type": "code",
   "execution_count": 27,
   "metadata": {},
   "outputs": [
    {
     "data": {
      "image/png": "[encoded data removed]",
      "text/plain": [
       "<Figure size 432x288 with 1 Axes>"
      ]
     },
     "metadata": {
      "needs_background": "light"
     },
     "output_type": "display_data"
    }
   ],
   "source": [
    "plot_instance_score(od_preds, y_outlier.astype(int), labels, od.threshold, ylim=(0, 25))"
   ]
  }
 ],
 "metadata": {
  "jupytext": {
   "encoding": "# -*- coding: utf-8 -*-",
   "formats": "ipynb,py:percent"
  },
  "kernelspec": {
   "display_name": "Python 3 (ipykernel)",
   "language": "python",
   "name": "python3"
  },
  "language_info": {
   "codemirror_mode": {
    "name": "ipython",
    "version": 3
   },
   "file_extension": ".py",
   "mimetype": "text/x-python",
   "name": "python",
   "nbconvert_exporter": "python",
   "pygments_lexer": "ipython3",
   "version": "3.8.10"
  }
 },
 "nbformat": 4,
 "nbformat_minor": 4
}
